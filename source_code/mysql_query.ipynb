{
 "cells": [
  {
   "cell_type": "code",
   "execution_count": 1,
   "metadata": {},
   "outputs": [],
   "source": [
    "import json\n",
    "import os\n",
    "import mysql.connector\n",
    "import time"
   ]
  },
  {
   "cell_type": "code",
   "execution_count": 2,
   "metadata": {},
   "outputs": [],
   "source": [
    "mydb = mysql.connector.connect(\n",
    "  host=\"localhost\",\n",
    "  user=\"root\",\n",
    "  password=\"\",\n",
    "  database=\"project\"\n",
    ")\n",
    "mycursor = mydb.cursor()"
   ]
  },
  {
   "cell_type": "code",
   "execution_count": 99,
   "metadata": {},
   "outputs": [
    {
     "name": "stdout",
     "output_type": "stream",
     "text": [
      "Query time:  0.020092010498046875\n"
     ]
    }
   ],
   "source": [
    "sql = \"select author_id from authors where location=''\"\n",
    "start = time.time()\n",
    "mycursor.execute(sql)\n",
    "myresult = mycursor.fetchall()\n",
    "end = time.time()\n",
    "print('Query time: ', end - start)"
   ]
  },
  {
   "cell_type": "code",
   "execution_count": 100,
   "metadata": {},
   "outputs": [
    {
     "name": "stdout",
     "output_type": "stream",
     "text": [
      "('100109393',)\n",
      "('1001417',)\n",
      "('100297896',)\n",
      "('100373116',)\n",
      "('1004172',)\n",
      "('100426096',)\n",
      "('100451391',)\n",
      "('100452342',)\n",
      "('100496192',)\n",
      "('100504178',)\n"
     ]
    }
   ],
   "source": [
    "for x in myresult[:10]:\n",
    "    print(x)"
   ]
  },
  {
   "cell_type": "code",
   "execution_count": 9,
   "metadata": {},
   "outputs": [
    {
     "name": "stdout",
     "output_type": "stream",
     "text": [
      "Query time:  0.01823282241821289\n"
     ]
    }
   ],
   "source": [
    "start = time.time()\n",
    "sql = \"select author_id, location from authors where location in \\\n",
    "        (select location from authors group by location having location != '' and count(*) > 1)\"\n",
    "mycursor.execute(sql)\n",
    "myresult = mycursor.fetchall()\n",
    "end = time.time()\n",
    "print('Query time: ', end - start)"
   ]
  },
  {
   "cell_type": "code",
   "execution_count": 10,
   "metadata": {},
   "outputs": [
    {
     "name": "stdout",
     "output_type": "stream",
     "text": [
      "('100206368', 'Florida')\n",
      "('100341260', 'San Francisco')\n",
      "('101211748', 'Maryland')\n",
      "('101685111', 'central texas')\n",
      "('102190161', 'Flyover Country')\n",
      "('102873', 'Ohio')\n",
      "('103077752', 'TX')\n",
      "('103743326', 'Chicago, IL')\n",
      "('104068816', 'PA')\n",
      "('104636197', 'Virginia')\n",
      "('104685427', 'USA')\n",
      "('104846736', 'Philadelphia')\n",
      "('105321875', 'New England')\n",
      "('105867065', 'los angeles')\n",
      "('106033456', 'Colorado')\n",
      "('106215523', 'USA')\n",
      "('107282352', 'Gotham')\n",
      "('108075579', 'Texas')\n",
      "('108949760', 'Texas')\n",
      "('109474136', 'Flyover Country, USA')\n",
      "('109492580', 'America')\n",
      "('110388309', 'Reno, NV')\n",
      "('110556218', 'Reno, NV')\n",
      "('110795490', 'Arizona')\n",
      "('111204877', 'Colorado')\n",
      "('111764185', 'Texas')\n",
      "('112088690', 'houston')\n",
      "('112572963', 'Earth')\n",
      "('113858740', 'Gotham City, NY')\n",
      "('114076874', 'Texas')\n",
      "('114967240', 'Phoenix, az')\n",
      "('115105449', 'The South')\n",
      "('115689315', 'Colorado')\n",
      "('116115207', 'Michigan')\n",
      "('117696188', 'New England')\n",
      "('117842441', 'Tampa, FL')\n",
      "('118927454', 'Knoxville, TN')\n",
      "('119201836', 'California')\n",
      "('119451312', 'Texas')\n",
      "('119493425', 'California')\n",
      "('119775787', 'Washington')\n",
      "('119878539', 'New York, NY')\n",
      "('119888201', 'usa')\n",
      "('120886674', 'California')\n",
      "('121096816', 'Indiana')\n",
      "('121362684', 'Colorado')\n",
      "('121737480', 'USA')\n",
      "('121767204', 'USA')\n",
      "('122178437', 'Maryland')\n",
      "('122302348', 'United States')\n",
      "('122790872', 'USA')\n",
      "('122953811', 'Gotham City, NY')\n",
      "('123019159', 'Boston')\n",
      "('123033356', 'New England')\n",
      "('123470903', 'chicago')\n",
      "('123619255', 'California')\n",
      "('124173086', 'America')\n",
      "('128198874', 'America')\n",
      "('12888335', 'Oregon')\n",
      "('129584943', 'texas')\n",
      "('129808290', 'Denver, CO')\n",
      "('1322910', 'Texas')\n",
      "('135665298', 'gotham')\n",
      "('135896620', 'Chicago Il')\n",
      "('13613361', 'Houston, TX')\n",
      "('137713764', 'Gotham City, NY')\n",
      "('137872791', 'Earth')\n",
      "('138525872', 'Houston')\n",
      "('144047745', 'NC')\n",
      "('144383316', 'USA')\n",
      "('145421085', 'Gotham City, NY')\n",
      "('146288079', 'New York, NY')\n",
      "('146405162', 'Amarillo, Texas')\n",
      "('146966879', 'America')\n",
      "('147511231', 'New York, NY')\n",
      "('148535273', 'honolulu')\n",
      "('151417860', 'pennsylvania')\n",
      "('152784024', 'Tampa, FL')\n",
      "('153547474', 'Long Island, NY')\n",
      "('155321424', 'USA')\n",
      "('157260600', 'Earth')\n",
      "('158648456', 'USA')\n",
      "('159366689', 'Australia')\n",
      "('1598538', 'Philadelphia')\n",
      "('160234885', 'Texas')\n",
      "('160296928', 'Idaho')\n",
      "('161583014', 'Canada')\n",
      "('162404126', 'Georgia')\n",
      "('1631102', 'Chicago')\n",
      "('163310003', 'USA')\n",
      "('16340667', 'Florida')\n",
      "('164325964', 'Texas')\n",
      "('16441399', 'New Jersey')\n",
      "('164609587', 'Texas')\n",
      "('164931389', 'Florida')\n",
      "('166177523', 'flyover country')\n",
      "('166350617', 'USA')\n",
      "('166540954', 'Amarillo, Texas')\n",
      "('167253919', 'Arizona')\n",
      "('16778652', 'Washington, DC')\n",
      "('168261241', 'California')\n",
      "('168751517', 'usa')\n",
      "('172118955', 'America')\n",
      "('176172451', 'Tampa, FL')\n",
      "('179879914', 'Lone Star State')\n",
      "('181272680', 'Australia')\n",
      "('182942535', 'USA')\n",
      "('183186500', 'USA')\n",
      "('18330617', 'Washington, DC')\n",
      "('184123183', 'Tennessee')\n",
      "('185920841', 'New York, NY')\n",
      "('18606671', 'Knoxville, TN')\n",
      "('18889851', 'USA')\n",
      "('188951185', 'State of Jefferson')\n",
      "('18953675', 'America')\n",
      "('191959666', 'USA')\n",
      "('192929099', 'central Texas')\n",
      "('195617007', 'Los Angeles')\n",
      "('195765286', 'California')\n",
      "('19790567', 'canada')\n",
      "('198650545', 'New Jersey')\n",
      "('199757361', 'Indiana')\n",
      "('200331110', 'USA')\n",
      "('200619078', 'Honolulu')\n",
      "('201488263', 'NYC')\n",
      "('20180097', 'Gotham City')\n",
      "('20185608', 'Flyover Country, USA')\n",
      "('20418267', 'Phoenix, AZ')\n",
      "('20655770', 'Flyover country')\n",
      "('207341966', 'Arizona')\n",
      "('208325297', 'usa')\n",
      "('2093197', 'Colorado')\n",
      "('20960285', 'Northern California')\n",
      "('210744089', 'California')\n",
      "('210881417', 'Texas')\n",
      "('211560240', 'Texas')\n",
      "('212639757', 'PA')\n",
      "('212658600', 'USA')\n",
      "('213630211', 'USA')\n",
      "('215937916', 'New jersey')\n",
      "('216230973', 'NYC')\n",
      "('216738739', 'Florida')\n",
      "('219415856', 'US')\n",
      "('22004537', 'Gotham City, NY')\n",
      "('223723573', 'AZ')\n",
      "('22732722', 'Planet Earth')\n",
      "('229448017', 'Houston, TX')\n",
      "('229562345', 'Michigan')\n",
      "('230117116', 'Pennsylvania')\n",
      "('23178759', 'Earth')\n",
      "('232208082', 'Earth')\n",
      "('233947', 'Los Angeles')\n",
      "('237238255', 'Arizona')\n",
      "('239009092', 'Oregon')\n",
      "('23925624', 'Arizona')\n",
      "('239392612', 'Tennessee')\n",
      "('240210167', 'USA')\n",
      "('240867788', 'Left Coast')\n",
      "('24092457', 'Michigan')\n",
      "('242208647', 'Left coast')\n",
      "('244363355', 'USA')\n",
      "('244500525', 'AZ')\n",
      "('244939192', 'Texas')\n",
      "('245851695', 'Earth')\n",
      "('248404515', 'Arizona')\n",
      "('2505306', 'Virginia')\n",
      "('251499572', 'USA')\n",
      "('253918392', 'Earth')\n",
      "('256201053', 'TX')\n",
      "('257498234', 'USA')\n",
      "('257556237', 'texas')\n",
      "('25905624', 'WASHINGTON, DC')\n",
      "('260478314', 'Planet Earth')\n",
      "('262031804', 'California')\n",
      "('262226919', 'Planet Earth')\n",
      "('264212506', 'NYC')\n",
      "('266136681', 'Washington DC')\n",
      "('267200776', 'Texas')\n",
      "('267387949', 'America')\n",
      "('268542229', 'Earth')\n",
      "('2694982', 'USA')\n",
      "('271642098', 'earth')\n",
      "('274225610', 'Los Angeles')\n",
      "('27714295', 'Earth')\n",
      "('279581964', 'United States')\n",
      "('28013433', 'USA')\n",
      "('280593029', 'The South')\n",
      "('281743557', 'Southern California')\n",
      "('2832674', 'Texas')\n",
      "('284187893', 'Here')\n",
      "('285111863', 'Texas')\n",
      "('285766716', 'USA')\n",
      "('286544572', 'West Coast')\n",
      "('286778817', 'United States of America')\n",
      "('286998891', 'USA')\n",
      "('287494', 'Portland, OR')\n",
      "('287842809', 'PA')\n",
      "('288321091', 'USA')\n",
      "('288432140', 'Earth')\n",
      "('290015093', 'flyover country')\n",
      "('290837375', 'Texas')\n",
      "('293389646', 'us')\n",
      "('293535373', 'Missouri')\n",
      "('293848792', 'United States of America')\n",
      "('29404727', 'Earth')\n",
      "('297369966', 'Boston')\n",
      "('29828288', 'PA')\n",
      "('301589', 'Indiana')\n",
      "('30318486', 'Gotham City, NY')\n",
      "('3055712', 'Texas')\n",
      "('313593533', 'Usa')\n",
      "('31468444', 'United States')\n",
      "('31989990', 'United States')\n",
      "('322854203', 'State of Jefferson')\n",
      "('323852715', 'Georgia')\n",
      "('324851491', 'USA')\n",
      "('324946958', 'NYC')\n",
      "('32968613', 'Washington DC')\n",
      "('33055057', 'TEXAS')\n",
      "('33390243', 'Planet Earth')\n",
      "('3339402', 'Lone Star State')\n",
      "('34120568', 'Los Angeles')\n",
      "('34216578', 'California')\n",
      "('34422439', 'Here')\n",
      "('348354', 'California')\n",
      "('35217872', 'Central Texas')\n",
      "('35443823', 'Central Texas')\n",
      "('358638', 'USA')\n",
      "('36169634', 'NC')\n",
      "('37012553', 'California')\n",
      "('37288608', 'Los Angeles')\n",
      "('39565364', 'Missouri')\n",
      "('3964939', 'Texas')\n",
      "('39837696', 'Ohio')\n",
      "('400492', 'USA')\n",
      "('40660686', 'The South')\n",
      "('40703545', 'Idaho')\n",
      "('41664277', 'Texas')\n",
      "('42061486', 'Colorado')\n",
      "('42332779', 'USA')\n",
      "('42505543', 'Philadelphia')\n",
      "('42525532', 'WASHINGTON')\n",
      "('43000823', 'Gotham City, NY')\n",
      "('45053014', 'Gotham City, NY')\n",
      "('452122', 'Indiana')\n",
      "('46679777', 'texas')\n",
      "('46857031', 'USA')\n",
      "('48036327', 'Michigan')\n",
      "('48810270', 'usa')\n",
      "('49734008', 'flyover country')\n",
      "('49744963', 'USA')\n",
      "('50051531', 'USA')\n",
      "('501676', 'Canada')\n",
      "('51494667', 'Denver, CO')\n",
      "('52014087', 'United States')\n",
      "('52403083', 'Texas')\n",
      "('53065222', 'Los Angeles')\n",
      "('53480516', 'Chicago IL')\n",
      "('53570830', 'Here')\n",
      "('54571103', 'Florida')\n",
      "('55044570', 'Arizona')\n",
      "('5537257', 'MAINE')\n",
      "('55591482', 'Arizona')\n",
      "('56059501', 'usa')\n",
      "('5722024', 'Dallas, TX')\n",
      "('57252890', 'Dallas, TX')\n",
      "('57515491', 'Los Angeles')\n",
      "('58891266', 'Southern California')\n",
      "('58951162', 'Florida')\n",
      "('61648296', 'Gotham City, NY')\n",
      "('6185646', 'California')\n",
      "('62303106', 'Texas')\n",
      "('63045763', 'Ohio')\n",
      "('63508562', 'Chicago, IL')\n",
      "('667964', 'AZ')\n",
      "('6886568', 'Gotham City')\n",
      "('6915874', 'United States')\n",
      "('6986570', 'Honolulu')\n",
      "('70092167', 'Fort Wayne, IN')\n",
      "('70494310', 'USA')\n",
      "('72549523', 'Michigan')\n",
      "('7273692', 'USA')\n",
      "('73492766', 'Tampa, FL')\n",
      "('7466368', 'Earth')\n",
      "('7543522', 'Maine')\n",
      "('75671217', 'Northern California')\n",
      "('76244843', 'PA')\n",
      "('77501725', 'America')\n",
      "('79174913', 'Earth')\n",
      "('79791732', 'USA')\n",
      "('80385356', 'America')\n",
      "('82435441', 'San Francisco')\n",
      "('86064379', 'west coast')\n",
      "('87286221', 'Washington, DC')\n",
      "('88135433', 'USA')\n",
      "('90809843', 'Florida')\n",
      "('9185673', 'USA')\n",
      "('93081727', 'michigan')\n",
      "('95841146', 'Gotham City, NY')\n",
      "('96074039', 'Missouri')\n",
      "('96081551', 'Fort Wayne, IN')\n",
      "('9631729', 'Chicago')\n",
      "('96348671', 'Phoenix, AZ')\n",
      "('96448623', 'USA')\n",
      "('97133422', 'long island, ny')\n",
      "('98135958', 'Portland, OR')\n",
      "('98318373', 'Earth')\n",
      "('98392230', 'America')\n",
      "('98583587', 'Texas')\n",
      "('99619658', 'Texas')\n",
      "('99906892', 'Oregon')\n"
     ]
    }
   ],
   "source": [
    "for x in myresult:\n",
    "    print(x)"
   ]
  },
  {
   "cell_type": "code",
   "execution_count": 103,
   "metadata": {},
   "outputs": [
    {
     "name": "stdout",
     "output_type": "stream",
     "text": [
      "Query time:  0.1683349609375\n"
     ]
    }
   ],
   "source": [
    "start = time.time()\n",
    "sql = \"select distinct(authors.author_id), comments.message from authors inner join comments on authors.author_id = comments.author_id \\\n",
    "       where comments.message like '%assault%' or comments.message like '%violence%' and comments.message like '%bad%' \\\n",
    "       and authors.author_id != 'Unknown'\"\n",
    "mycursor.execute(sql)\n",
    "myresult = mycursor.fetchall()\n",
    "end = time.time()\n",
    "print('Query time: ', end - start)"
   ]
  },
  {
   "cell_type": "code",
   "execution_count": 105,
   "metadata": {},
   "outputs": [
    {
     "name": "stdout",
     "output_type": "stream",
     "text": [
      "('50979323', \"<p>There was a reason why John McCain didn't want Trump at his funeral.  Why the last two Republican Presidents and the last two Republican presidential candidates didn't vote for Trump....he's a pathological liar, cheats on his wife with porn stars and hookers, and has torn this nation apart with his attacks on our Free Press and anyone who disagrees with him.   Kavanaugh sexually assaulted that woman, just like the man who appointed him to office...both sexual predators..</p>\")\n",
      "('275630443', '<p>Honey Badger, this stuff could literally start Civil War II. The corruption and political violence is just out of control.</p>')\n",
      "('279011761', '<p>NOT sweating this! When the dust settles...WE WIN!..MARK MY WORDS!</p><p>In other news!....</p><p>Keith Ellison resigns from DNC post amid sexual assault claims!</p><p><a href=\"https://disq.us/url?url=https%3A%2F%2Fwww.washingtonexaminer.com%2Fnews%2Fkeith-ellison-resigns-from-dnc-post-amid-sexual-assault-claims%3A2HOkVIfZV1KvAtD1HQaIXm1XpQ0&amp;cuid=1290197\" rel=\"nofollow noopener\" title=\"https://www.washingtonexaminer.com/news/keith-ellison-resigns-from-dnc-post-amid-sexual-assault-claims\">')\n",
      "('44553314', '<p>Actually the civilian executive can fire the heads of the DOJ and FBI in a 24 hour rotating basis simply because he did not like their tie color.</p><p>The only thing unconstitutional is this assault on the elected civilian government of the United States by unelected would be nobility.</p><p>Keep it up and your all going to find out personally what happens to would-be Royalty on US Shores.</p><p>Trump was only the beginning.</p>')\n",
      "('44553314', '<p>Oh?</p><p>I bet you did not even read the clause. Idiots like conway provide a mere pretense.</p><p>That is all that is required for todays malignant molecules to eject the peaceful transfer of power and assault a legitimately elected civilian government.  Pretense.</p><p>Where we are going?</p><p>You wont need anymore pretense.</p><p>There will be no turning back and when it howls all around you , there will come a time when you pray to god for someone as politically tame as Trump to hold of')\n"
     ]
    }
   ],
   "source": [
    "for x in myresult[:5]:\n",
    "    print(x)"
   ]
  },
  {
   "cell_type": "code",
   "execution_count": 12,
   "metadata": {},
   "outputs": [
    {
     "name": "stdout",
     "output_type": "stream",
     "text": [
      "Query time:  0.3313741683959961\n"
     ]
    }
   ],
   "source": [
    "start = time.time()\n",
    "\n",
    "sql = \"select authors.author_id, authors.location, comments.message from authors \\\n",
    "        inner join comments on authors.author_id=comments.author_id where comments.message like '%bad%' \\\n",
    "        and authors.location in (select location from authors group by location having location != '' and count(*) > 1)\"\n",
    "mycursor.execute(sql)\n",
    "myresult = mycursor.fetchall()\n",
    "end = time.time()\n",
    "print('Query time: ', end - start)"
   ]
  },
  {
   "cell_type": "code",
   "execution_count": 13,
   "metadata": {},
   "outputs": [
    {
     "name": "stdout",
     "output_type": "stream",
     "text": [
      "('20960285', 'Northern California', '<p>High steaks for Dems:</p><p>R.B.Ginsberg is out in January....Evidently, Feinstein knew her cancer<br> had returned even before Kavanaugh was brought up...Makes more sense <br>why they put him through the gauntlet and why the Dems are now trying so<br> desperately to rig the Senate mid term votes...</p><p><a href=\"https://disq.us/url?url=https%3A%2F%2Fwww.smobserved.com%2Fstory%2F2018%2F09%2F27%2Fpolitics%2Fjustice-ruth-bader-ginsburg-will-retire-from-the-us-supreme-court-in-january-2019%2F36')\n",
      "('129584943', 'texas', '<p>There are a lot of bad things happening tonight for the dems , I would hate to be in that womens shoes when this shakes out</p>')\n",
      "('129584943', 'texas', '<p>No, it is really bad ,, really bad for the dems</p>')\n",
      "('49744963', 'USA', '<p>USA voting system is in shambles. No party should be gleeful as the corruption is bad for everyone.</p>')\n",
      "('100206368', 'Florida', \"<p>I haven't seen this reported anywhere but hope it is true...too bad it didn't happen 48 hours ago!</p>\")\n",
      "('50051531', 'USA', \"<p>People keep saying not all Democrats are bad. Those people are ignoring reality. If you vote Democrat at this point, you're evil and void of morality. No more excuses. You can't have one party that plays by the rules and the other that does whatever the hell they want to win. Eventually this WILL come down to violence for this reason. If you think it won't, then you are ignoring all of human history.</p>\")\n",
      "('245851695', 'Earth', '<p>Scott won, deal with it....Gillum was a bad card that was exposed...</p>')\n",
      "('232208082', 'Earth', '<p>So much voter fraud.    ....if people only knew how bad it is.</p>')\n",
      "('2832674', 'Texas', '<p>FASCIST DISCUS has his name censored,  so we cant speak badly of him.</p>')\n",
      "('288432140', 'Earth', \"<p>And which party has 34 members of Congress with dual citizenship's? The Dems are as bad as the Repubs when it comes to kissing Israels arz!</p>\")\n",
      "('288432140', 'Earth', '<p>What do you think is going to happen with all these trillion dollar wars when young people start using drone based non lethal bio weapons! Very little mortality and no infrastructure damage. Gives you the ability to go in and kill just the bad guys.</p>')\n",
      "('191959666', 'USA', \"<p>Bad luck to you....LOL....Because that is what's coming....Democrat!!!...LOL...Trump has nothing lose by RAMMING America down your throats....Sucks to be you....</p>\")\n"
     ]
    }
   ],
   "source": [
    "for x in myresult:\n",
    "    print(x)"
   ]
  },
  {
   "cell_type": "code",
   "execution_count": 108,
   "metadata": {},
   "outputs": [
    {
     "name": "stdout",
     "output_type": "stream",
     "text": [
      "Query time:  0.0221099853515625\n"
     ]
    }
   ],
   "source": [
    "start = time.time()\n",
    "sql = \"select author_id, count(*) from comments group by author_id order by count(*) desc limit 10\"\n",
    "mycursor.execute(sql)\n",
    "myresult = mycursor.fetchall()\n",
    "end = time.time()\n",
    "print('Query time: ', end - start)"
   ]
  },
  {
   "cell_type": "code",
   "execution_count": 109,
   "metadata": {},
   "outputs": [
    {
     "name": "stdout",
     "output_type": "stream",
     "text": [
      "('288536631', 246)\n",
      "('150140509', 185)\n",
      "('292842000', 176)\n",
      "('294944884', 170)\n",
      "('118923992', 151)\n",
      "('233610691', 133)\n",
      "('280239772', 131)\n",
      "('324921053', 117)\n",
      "('217404555', 107)\n",
      "('322920136', 104)\n"
     ]
    }
   ],
   "source": [
    "for x in myresult:\n",
    "    print(x)"
   ]
  },
  {
   "cell_type": "code",
   "execution_count": 110,
   "metadata": {},
   "outputs": [
    {
     "name": "stdout",
     "output_type": "stream",
     "text": [
      "Query time:  0.04007911682128906\n"
     ]
    }
   ],
   "source": [
    "start = time.time()\n",
    "sql = \"select author_id from authors where author_id not in \\\n",
    "       (select comments.author_id from comments where comments.parent_comment_id = 'None')\"\n",
    "mycursor.execute(sql)\n",
    "myresult = mycursor.fetchall()\n",
    "end = time.time()\n",
    "print('Query time: ', end - start)"
   ]
  },
  {
   "cell_type": "code",
   "execution_count": 112,
   "metadata": {},
   "outputs": [
    {
     "name": "stdout",
     "output_type": "stream",
     "text": [
      "('100022087',)\n",
      "('100058873',)\n",
      "('100109393',)\n",
      "('1001417',)\n",
      "('100206368',)\n",
      "('100257222',)\n",
      "('100297896',)\n",
      "('100341260',)\n",
      "('100373116',)\n",
      "('100414580',)\n"
     ]
    }
   ],
   "source": [
    "for x in myresult[:10]:\n",
    "    print(x)"
   ]
  },
  {
   "cell_type": "code",
   "execution_count": 113,
   "metadata": {},
   "outputs": [
    {
     "name": "stdout",
     "output_type": "stream",
     "text": [
      "Query time:  0.03648018836975098\n"
     ]
    }
   ],
   "source": [
    "start = time.time()\n",
    "sql = \"select author_id from authors where author_id not in \\\n",
    "       (select comments.author_id from comments where comments.parent_comment_id != 'None')\"\n",
    "mycursor.execute(sql)\n",
    "myresult = mycursor.fetchall()\n",
    "end = time.time()\n",
    "print('Query time: ', end - start)"
   ]
  },
  {
   "cell_type": "code",
   "execution_count": 114,
   "metadata": {},
   "outputs": [
    {
     "name": "stdout",
     "output_type": "stream",
     "text": [
      "('1001417',)\n",
      "('100257222',)\n",
      "('100414580',)\n",
      "('100451391',)\n",
      "('100452342',)\n",
      "('100496192',)\n",
      "('100530644',)\n",
      "('100558369',)\n",
      "('100754156',)\n",
      "('100779120',)\n"
     ]
    }
   ],
   "source": [
    "for x in myresult[:10]:\n",
    "    print(x)"
   ]
  },
  {
   "cell_type": "code",
   "execution_count": 115,
   "metadata": {},
   "outputs": [
    {
     "name": "stdout",
     "output_type": "stream",
     "text": [
      "Query time:  0.14802908897399902\n"
     ]
    }
   ],
   "source": [
    "start = time.time()\n",
    "sql = \"select author_id, avg(comment_likes) as likes, avg(comment_dislikes) as dislikes from comments \\\n",
    "       group by author_id order by avg(comment_likes) desc\"\n",
    "mycursor.execute(sql)\n",
    "myresult = mycursor.fetchall()\n",
    "end = time.time()\n",
    "print('Query time: ', end - start)"
   ]
  },
  {
   "cell_type": "code",
   "execution_count": 116,
   "metadata": {},
   "outputs": [
    {
     "name": "stdout",
     "output_type": "stream",
     "text": [
      "('17452698', Decimal('725.0000'), Decimal('0.0000'))\n",
      "('131413377', Decimal('396.0000'), Decimal('0.0000'))\n",
      "('110434834', Decimal('229.0000'), Decimal('0.0000'))\n",
      "('283927074', Decimal('199.0000'), Decimal('1.0000'))\n",
      "('284417180', Decimal('192.0000'), Decimal('0.0000'))\n",
      "('243945682', Decimal('184.0000'), Decimal('0.0000'))\n",
      "('276155630', Decimal('146.7500'), Decimal('0.1250'))\n",
      "('219318371', Decimal('129.2000'), Decimal('0.0000'))\n",
      "('255680944', Decimal('128.0000'), Decimal('0.0000'))\n",
      "('156852461', Decimal('110.0000'), Decimal('0.0000'))\n"
     ]
    }
   ],
   "source": [
    "for x in myresult[:10]:\n",
    "    print(x)"
   ]
  },
  {
   "cell_type": "code",
   "execution_count": 93,
   "metadata": {},
   "outputs": [],
   "source": [
    "mydb = mysql.connector.connect(\n",
    "  host=\"localhost\",\n",
    "  user=\"root\",\n",
    "  password=\"\",\n",
    "  database=\"project\"\n",
    ")\n",
    "mycursor = mydb.cursor()"
   ]
  },
  {
   "cell_type": "code",
   "execution_count": 17,
   "metadata": {},
   "outputs": [
    {
     "name": "stdout",
     "output_type": "stream",
     "text": [
      "Query time:  8.63790488243103\n"
     ]
    }
   ],
   "source": [
    "# Batch execution\n",
    "num = 20\n",
    "start = time.time()\n",
    "for _ in range(num):\n",
    "    sql = \"select author_id from authors where location=''\"\n",
    "    mycursor.execute(sql)\n",
    "    myresult = mycursor.fetchall()\n",
    "for _ in range(num):\n",
    "    sql = \"select author_id, location from authors where location in \\\n",
    "        (select location from authors group by location having location != '' and count(*) > 1)\"\n",
    "    mycursor.execute(sql)\n",
    "    myresult = mycursor.fetchall()\n",
    "for _ in range(num):\n",
    "    sql = \"select distinct(authors.author_id), comments.message from authors inner join comments on authors.author_id = comments.author_id \\\n",
    "       where comments.message like '%assault%' or comments.message like '%violence%' and comments.message like '%bad%' \\\n",
    "       and authors.author_id != 'Unknown'\"\n",
    "    mycursor.execute(sql)\n",
    "    myresult = mycursor.fetchall()\n",
    "for _ in range(num):\n",
    "    sql = \"select authors.author_id, authors.location, comments.message from authors \\\n",
    "        inner join comments on authors.author_id=comments.author_id where comments.message like '%bad%' \\\n",
    "        and authors.location in (select location from authors group by location having location != '' and count(*) > 1)\"\n",
    "    mycursor.execute(sql)\n",
    "    myresult = mycursor.fetchall()\n",
    "for _ in range(num):\n",
    "    sql = \"select author_id, count(*) from comments group by author_id order by count(*) desc limit 10\"\n",
    "    mycursor.execute(sql)\n",
    "    myresult = mycursor.fetchall()\n",
    "for _ in range(num):\n",
    "    sql = \"select author_id from authors where author_id not in \\\n",
    "       (select comments.author_id from comments where comments.parent_comment_id = 'None')\"\n",
    "    mycursor.execute(sql)\n",
    "    myresult = mycursor.fetchall()\n",
    "for _ in range(num):\n",
    "    sql = \"select author_id from authors where author_id not in \\\n",
    "       (select comments.author_id from comments where comments.parent_comment_id != 'None')\"\n",
    "    mycursor.execute(sql)\n",
    "    myresult = mycursor.fetchall()\n",
    "for _ in range(num):\n",
    "    sql = \"select author_id, avg(comment_likes) as likes, avg(comment_dislikes) as dislikes from comments \\\n",
    "       group by author_id order by avg(comment_likes) desc\"\n",
    "    mycursor.execute(sql)\n",
    "    myresult = mycursor.fetchall()\n",
    "    \n",
    "end = time.time()\n",
    "print('Query time: ', end - start)"
   ]
  },
  {
   "cell_type": "code",
   "execution_count": 22,
   "metadata": {},
   "outputs": [],
   "source": [
    "sql = \"create index location_idx on authors (location)\"\n",
    "mycursor.execute(sql)"
   ]
  },
  {
   "cell_type": "code",
   "execution_count": 23,
   "metadata": {},
   "outputs": [
    {
     "name": "stdout",
     "output_type": "stream",
     "text": [
      "Query time:  0.08898401260375977\n"
     ]
    }
   ],
   "source": [
    "start = time.time()\n",
    "\n",
    "sql = \"select authors.author_id, authors.location, comments.message from authors \\\n",
    "        inner join comments on authors.author_id=comments.author_id where comments.message like '%bad%' \\\n",
    "        and authors.location in (select location from authors group by location having location != '' and count(*) > 1)\"\n",
    "mycursor.execute(sql)\n",
    "myresult = mycursor.fetchall()\n",
    "end = time.time()\n",
    "print('Query time: ', end - start)"
   ]
  },
  {
   "cell_type": "code",
   "execution_count": null,
   "metadata": {},
   "outputs": [],
   "source": []
  }
 ],
 "metadata": {
  "kernelspec": {
   "display_name": "Python 3",
   "language": "python",
   "name": "python3"
  },
  "language_info": {
   "codemirror_mode": {
    "name": "ipython",
    "version": 3
   },
   "file_extension": ".py",
   "mimetype": "text/x-python",
   "name": "python",
   "nbconvert_exporter": "python",
   "pygments_lexer": "ipython3",
   "version": "3.7.4"
  }
 },
 "nbformat": 4,
 "nbformat_minor": 2
}
